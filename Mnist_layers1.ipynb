{
  "nbformat": 4,
  "nbformat_minor": 0,
  "metadata": {
    "colab": {
      "name": "Mnist_layers1.ipynb",
      "provenance": [],
      "authorship_tag": "ABX9TyMVjTlLjnyS8Csg0/VH4cpZ",
      "include_colab_link": true
    },
    "kernelspec": {
      "name": "python3",
      "display_name": "Python 3"
    }
  },
  "cells": [
    {
      "cell_type": "markdown",
      "metadata": {
        "id": "view-in-github",
        "colab_type": "text"
      },
      "source": [
        "<a href=\"https://colab.research.google.com/github/silro/bigvlaue/blob/master/Mnist_layers1.ipynb\" target=\"_parent\"><img src=\"https://colab.research.google.com/assets/colab-badge.svg\" alt=\"Open In Colab\"/></a>"
      ]
    },
    {
      "cell_type": "code",
      "metadata": {
        "id": "04Ua56KsjyaJ",
        "colab_type": "code",
        "colab": {}
      },
      "source": [
        "import tensorflow as tf\n",
        "tf.__version__\n",
        "import keras\n",
        "keras.__version__\n",
        "import numpy as np"
      ],
      "execution_count": 59,
      "outputs": []
    },
    {
      "cell_type": "markdown",
      "metadata": {
        "id": "5VDiXbQ6kC6v",
        "colab_type": "text"
      },
      "source": [
        "# Input Layer"
      ]
    },
    {
      "cell_type": "code",
      "metadata": {
        "id": "98Apzf3pkPfF",
        "colab_type": "code",
        "colab": {}
      },
      "source": [
        "import matplotlib.pyplot as plt\n",
        "%matplotlib inline\n"
      ],
      "execution_count": 10,
      "outputs": []
    },
    {
      "cell_type": "code",
      "metadata": {
        "id": "YGo28-8bkVNV",
        "colab_type": "code",
        "colab": {}
      },
      "source": [
        "from tensorflow.keras import datasets\n",
        "\n",
        "(train_x, train_y), (test_x, test_y) = datasets.mnist.load_data()"
      ],
      "execution_count": 22,
      "outputs": []
    },
    {
      "cell_type": "code",
      "metadata": {
        "id": "ReG4QGydkbyF",
        "colab_type": "code",
        "colab": {}
      },
      "source": [
        "image = train_x[0]"
      ],
      "execution_count": 86,
      "outputs": []
    },
    {
      "cell_type": "code",
      "metadata": {
        "id": "VZHlXZXwkeF2",
        "colab_type": "code",
        "colab": {
          "base_uri": "https://localhost:8080/",
          "height": 35
        },
        "outputId": "68ff788b-b943-4472-9b3a-f4fb1d043e6b"
      },
      "source": [
        "image.shape"
      ],
      "execution_count": 87,
      "outputs": [
        {
          "output_type": "execute_result",
          "data": {
            "text/plain": [
              "(28, 28)"
            ]
          },
          "metadata": {
            "tags": []
          },
          "execution_count": 87
        }
      ]
    },
    {
      "cell_type": "markdown",
      "metadata": {
        "id": "YccWI2HfkhBY",
        "colab_type": "text"
      },
      "source": [
        "이미지를 열어보앗다면 shape 확인\n",
        "차원 수를 확인했는데 어떤 결과가 나오는가?\n",
        "[batch_size, height, width, channel]"
      ]
    },
    {
      "cell_type": "code",
      "metadata": {
        "id": "UQbZI-1QkkKl",
        "colab_type": "code",
        "colab": {
          "base_uri": "https://localhost:8080/",
          "height": 283
        },
        "outputId": "fb8e3529-5976-4226-8494-2f17b4e0d058"
      },
      "source": [
        "plt.imshow(image, 'gray')"
      ],
      "execution_count": 7,
      "outputs": [
        {
          "output_type": "execute_result",
          "data": {
            "text/plain": [
              "<matplotlib.image.AxesImage at 0x7fd73e7009e8>"
            ]
          },
          "metadata": {
            "tags": []
          },
          "execution_count": 7
        },
        {
          "output_type": "display_data",
          "data": {
            "image/png": "[encoded data removed]",
            "text/plain": [
              "<Figure size 432x288 with 1 Axes>"
            ]
          },
          "metadata": {
            "tags": [],
            "needs_background": "light"
          }
        }
      ]
    },
    {
      "cell_type": "code",
      "metadata": {
        "id": "29iOMZjPk4d3",
        "colab_type": "code",
        "colab": {
          "base_uri": "https://localhost:8080/",
          "height": 35
        },
        "outputId": "60e6e616-e38d-4b44-8f8b-3043bb1d701c"
      },
      "source": [
        "image = image[tf.newaxis,..., tf.newaxis]\n",
        "image.shape"
      ],
      "execution_count": 88,
      "outputs": [
        {
          "output_type": "execute_result",
          "data": {
            "text/plain": [
              "(1, 28, 28, 1)"
            ]
          },
          "metadata": {
            "tags": []
          },
          "execution_count": 88
        }
      ]
    },
    {
      "cell_type": "markdown",
      "metadata": {
        "id": "zD7b4OUVkmPN",
        "colab_type": "text"
      },
      "source": [
        "#Feature Extraction\n",
        "특징 추출\\n\n",
        "pooling, convolution\n"
      ]
    },
    {
      "cell_type": "code",
      "metadata": {
        "id": "D1SQ-XVIke19",
        "colab_type": "code",
        "colab": {
          "base_uri": "https://localhost:8080/",
          "height": 35
        },
        "outputId": "b4d2a877-6f45-483f-8156-d8a38a056a8f"
      },
      "source": [
        "tf.keras.layers.Conv2D(filters=3, kernel_size=(3,3), strides=(1,1), padding='SAME', activation='relu')"
      ],
      "execution_count": 96,
      "outputs": [
        {
          "output_type": "execute_result",
          "data": {
            "text/plain": [
              "<tensorflow.python.keras.layers.convolutional.Conv2D at 0x7fd73496cbe0>"
            ]
          },
          "metadata": {
            "tags": []
          },
          "execution_count": 96
        }
      ]
    },
    {
      "cell_type": "markdown",
      "metadata": {
        "id": "How6jV8TmNVA",
        "colab_type": "text"
      },
      "source": [
        "conv layer를 거쳐서 image에 추가한 채널에...? 어쩌고 저쩌고 ㅠㅠ 아직 이해못함 \n",
        "\n",
        "*   필터를 거쳐서 이미지 특징을 강조함\n",
        "filters : layer에서 나갈때 몇개의 필터를 만들것인가 (weights, filters, channel)\n",
        "kernel_size : filter(Weight) 사이즈\n",
        "strides : 몇개의 pixel을 skip하면서 훑어 지나갈것인가? (사이즈에 영향을줌)\n",
        "padding : zero padding을 만들것인가? valid는 padding이 없고, same은 padding이 있음 (사이즈에 영향을 줌)\n",
        "activation : 활성함수, \n",
        "\n",
        "\n"
      ]
    },
    {
      "cell_type": "code",
      "metadata": {
        "id": "mb4BRJxHlsCi",
        "colab_type": "code",
        "colab": {
          "base_uri": "https://localhost:8080/",
          "height": 35
        },
        "outputId": "71bdda93-2754-4ec5-fac7-4a7873e4c337"
      },
      "source": [
        "tf.keras.layers.Conv2D(3,3,1,'SAME')"
      ],
      "execution_count": 95,
      "outputs": [
        {
          "output_type": "execute_result",
          "data": {
            "text/plain": [
              "<tensorflow.python.keras.layers.convolutional.Conv2D at 0x7fd736f52cc0>"
            ]
          },
          "metadata": {
            "tags": []
          },
          "execution_count": 95
        }
      ]
    },
    {
      "cell_type": "markdown",
      "metadata": {
        "id": "H5geoxNFnVN4",
        "colab_type": "text"
      },
      "source": [
        "#Visualiztion\n",
        "\n"
      ]
    },
    {
      "cell_type": "code",
      "metadata": {
        "id": "1-a5B-I_nXJt",
        "colab_type": "code",
        "colab": {
          "base_uri": "https://localhost:8080/",
          "height": 35
        },
        "outputId": "8fba3818-58a3-47df-87a6-1a0bc4365c1b"
      },
      "source": [
        "image = tf.cast(image, dtype=tf.float32)\n",
        "image.dtype"
      ],
      "execution_count": 89,
      "outputs": [
        {
          "output_type": "execute_result",
          "data": {
            "text/plain": [
              "tf.float32"
            ]
          },
          "metadata": {
            "tags": []
          },
          "execution_count": 89
        }
      ]
    },
    {
      "cell_type": "code",
      "metadata": {
        "id": "2DJ1prxsnbF9",
        "colab_type": "code",
        "colab": {
          "base_uri": "https://localhost:8080/",
          "height": 35
        },
        "outputId": "470987ec-7a86-4134-88e5-f8f37bfa93bb"
      },
      "source": [
        "layer = tf.keras.layers.Conv2D(5,3,1,'SAME')\n",
        "layer"
      ],
      "execution_count": 100,
      "outputs": [
        {
          "output_type": "execute_result",
          "data": {
            "text/plain": [
              "<tensorflow.python.keras.layers.convolutional.Conv2D at 0x7fd736d226d8>"
            ]
          },
          "metadata": {
            "tags": []
          },
          "execution_count": 100
        }
      ]
    },
    {
      "cell_type": "code",
      "metadata": {
        "id": "GmLsSDN_nksW",
        "colab_type": "code",
        "colab": {}
      },
      "source": [
        "output = layer(image)"
      ],
      "execution_count": 101,
      "outputs": []
    },
    {
      "cell_type": "code",
      "metadata": {
        "id": "PA7hZas9nnqW",
        "colab_type": "code",
        "colab": {
          "base_uri": "https://localhost:8080/",
          "height": 917
        },
        "outputId": "c6d9643d-5f6d-4835-d8ca-062a694b989a"
      },
      "source": [
        "output"
      ],
      "execution_count": 102,
      "outputs": [
        {
          "output_type": "execute_result",
          "data": {
            "text/plain": [
              "<tf.Tensor: shape=(1, 28, 28, 5), dtype=float32, numpy=\n",
              "array([[[[0., 0., 0., 0., 0.],\n",
              "         [0., 0., 0., 0., 0.],\n",
              "         [0., 0., 0., 0., 0.],\n",
              "         ...,\n",
              "         [0., 0., 0., 0., 0.],\n",
              "         [0., 0., 0., 0., 0.],\n",
              "         [0., 0., 0., 0., 0.]],\n",
              "\n",
              "        [[0., 0., 0., 0., 0.],\n",
              "         [0., 0., 0., 0., 0.],\n",
              "         [0., 0., 0., 0., 0.],\n",
              "         ...,\n",
              "         [0., 0., 0., 0., 0.],\n",
              "         [0., 0., 0., 0., 0.],\n",
              "         [0., 0., 0., 0., 0.]],\n",
              "\n",
              "        [[0., 0., 0., 0., 0.],\n",
              "         [0., 0., 0., 0., 0.],\n",
              "         [0., 0., 0., 0., 0.],\n",
              "         ...,\n",
              "         [0., 0., 0., 0., 0.],\n",
              "         [0., 0., 0., 0., 0.],\n",
              "         [0., 0., 0., 0., 0.]],\n",
              "\n",
              "        ...,\n",
              "\n",
              "        [[0., 0., 0., 0., 0.],\n",
              "         [0., 0., 0., 0., 0.],\n",
              "         [0., 0., 0., 0., 0.],\n",
              "         ...,\n",
              "         [0., 0., 0., 0., 0.],\n",
              "         [0., 0., 0., 0., 0.],\n",
              "         [0., 0., 0., 0., 0.]],\n",
              "\n",
              "        [[0., 0., 0., 0., 0.],\n",
              "         [0., 0., 0., 0., 0.],\n",
              "         [0., 0., 0., 0., 0.],\n",
              "         ...,\n",
              "         [0., 0., 0., 0., 0.],\n",
              "         [0., 0., 0., 0., 0.],\n",
              "         [0., 0., 0., 0., 0.]],\n",
              "\n",
              "        [[0., 0., 0., 0., 0.],\n",
              "         [0., 0., 0., 0., 0.],\n",
              "         [0., 0., 0., 0., 0.],\n",
              "         ...,\n",
              "         [0., 0., 0., 0., 0.],\n",
              "         [0., 0., 0., 0., 0.],\n",
              "         [0., 0., 0., 0., 0.]]]], dtype=float32)>"
            ]
          },
          "metadata": {
            "tags": []
          },
          "execution_count": 102
        }
      ]
    },
    {
      "cell_type": "code",
      "metadata": {
        "id": "dWhsudaKnvMd",
        "colab_type": "code",
        "colab": {
          "base_uri": "https://localhost:8080/",
          "height": 201
        },
        "outputId": "1089fed4-a321-4b66-ed10-02ca5458e6a6"
      },
      "source": [
        "plt.subplot(1,2,1)\n",
        "plt.imshow(image[0,:,:,0],'gray')\n",
        "plt.subplot(1,2,2)\n",
        "plt.imshow(output[0,:,:,0],'gray')\n",
        "plt.show()"
      ],
      "execution_count": 103,
      "outputs": [
        {
          "output_type": "display_data",
          "data": {
            "image/png": "[encoded data removed]",
            "text/plain": [
              "<Figure size 432x288 with 2 Axes>"
            ]
          },
          "metadata": {
            "tags": [],
            "needs_background": "light"
          }
        }
      ]
    },
    {
      "cell_type": "markdown",
      "metadata": {
        "id": "uGpnfM_ANIjH",
        "colab_type": "text"
      },
      "source": [
        "#2020.06.19 layer2\n",
        "Weight"
      ]
    },
    {
      "cell_type": "code",
      "metadata": {
        "id": "1PKVanQ8n2oW",
        "colab_type": "code",
        "colab": {}
      },
      "source": [
        "weight = layer.get_weights()"
      ],
      "execution_count": 104,
      "outputs": []
    },
    {
      "cell_type": "code",
      "metadata": {
        "id": "93tLDAOsnyNY",
        "colab_type": "code",
        "colab": {
          "base_uri": "https://localhost:8080/",
          "height": 539
        },
        "outputId": "fd37955a-0629-4193-ff8e-c15eb44b6139"
      },
      "source": [
        "weight"
      ],
      "execution_count": 105,
      "outputs": [
        {
          "output_type": "execute_result",
          "data": {
            "text/plain": [
              "[array([[[[ 0.07446313, -0.17686073,  0.07113147, -0.21304417,\n",
              "           -0.09117231]],\n",
              " \n",
              "         [[-0.14705825, -0.12965433, -0.32366794, -0.22074279,\n",
              "            0.06528306]],\n",
              " \n",
              "         [[-0.06810465,  0.01127967, -0.28170332, -0.23341179,\n",
              "            0.19601431]]],\n",
              " \n",
              " \n",
              "        [[[-0.1844047 , -0.27241048,  0.26942858, -0.23597106,\n",
              "            0.22964558]],\n",
              " \n",
              "         [[-0.0096654 , -0.04220995,  0.26641062,  0.25619236,\n",
              "            0.20716956]],\n",
              " \n",
              "         [[-0.25307125, -0.13056636,  0.15547886, -0.28071818,\n",
              "            0.03526387]]],\n",
              " \n",
              " \n",
              "        [[[ 0.03490981,  0.13885632,  0.0267643 ,  0.20179763,\n",
              "           -0.1621763 ]],\n",
              " \n",
              "         [[-0.12578194, -0.16549318,  0.31851116,  0.20261684,\n",
              "           -0.26394448]],\n",
              " \n",
              "         [[-0.02225909, -0.21555662,  0.06576839,  0.12141171,\n",
              "           -0.08793387]]]], dtype=float32),\n",
              " array([0., 0., 0., 0., 0.], dtype=float32)]"
            ]
          },
          "metadata": {
            "tags": []
          },
          "execution_count": 105
        }
      ]
    },
    {
      "cell_type": "code",
      "metadata": {
        "id": "zWe19tuAjq_Z",
        "colab_type": "code",
        "colab": {
          "base_uri": "https://localhost:8080/",
          "height": 35
        },
        "outputId": "c576d781-8028-4a92-a736-80891aecff99"
      },
      "source": [
        "weight[0].shape, weight[1].shape"
      ],
      "execution_count": 106,
      "outputs": [
        {
          "output_type": "execute_result",
          "data": {
            "text/plain": [
              "((3, 3, 1, 5), (5,))"
            ]
          },
          "metadata": {
            "tags": []
          },
          "execution_count": 106
        }
      ]
    },
    {
      "cell_type": "code",
      "metadata": {
        "id": "aVQ2bfOLjvKj",
        "colab_type": "code",
        "colab": {
          "base_uri": "https://localhost:8080/",
          "height": 324
        },
        "outputId": "6a80b4bf-a3d1-4ec9-b25f-52fe07c3f26f"
      },
      "source": [
        "plt.figure(figsize=(15,5))\n",
        "plt.subplot(131)\n",
        "plt.hist(output.numpy().ravel(), range=[-2,2])\n",
        "plt.ylim(0,100)\n",
        "\n",
        "plt.subplot(132)\n",
        "plt.title(weight[0].shape)\n",
        "plt.imshow(weight[0][:,:,0,0],'gray')\n",
        "\n",
        "plt.subplot(133)\n",
        "plt.title(output.shape)\n",
        "plt.imshow(output[0,:,:,0], 'gray')\n",
        "plt.colorbar()\n",
        "plt.show()"
      ],
      "execution_count": 107,
      "outputs": [
        {
          "output_type": "display_data",
          "data": {
            "image/png": "[encoded data removed]",
            "text/plain": [
              "<Figure size 1080x360 with 4 Axes>"
            ]
          },
          "metadata": {
            "tags": [],
            "needs_background": "light"
          }
        }
      ]
    },
    {
      "cell_type": "code",
      "metadata": {
        "id": "qVsKIEojj0VB",
        "colab_type": "code",
        "colab": {}
      },
      "source": [
        ""
      ],
      "execution_count": null,
      "outputs": []
    },
    {
      "cell_type": "markdown",
      "metadata": {
        "id": "FR8Dlj8Hk6cU",
        "colab_type": "text"
      },
      "source": [
        "# 활성함수\n"
      ]
    },
    {
      "cell_type": "code",
      "metadata": {
        "id": "VKtTV5lKk78b",
        "colab_type": "code",
        "colab": {
          "base_uri": "https://localhost:8080/",
          "height": 35
        },
        "outputId": "f73d4867-a2f3-4436-9344-5ccfcce1309a"
      },
      "source": [
        "tf.keras.layers.ReLU()"
      ],
      "execution_count": 108,
      "outputs": [
        {
          "output_type": "execute_result",
          "data": {
            "text/plain": [
              "<tensorflow.python.keras.layers.advanced_activations.ReLU at 0x7fd7373bef60>"
            ]
          },
          "metadata": {
            "tags": []
          },
          "execution_count": 108
        }
      ]
    },
    {
      "cell_type": "code",
      "metadata": {
        "id": "Zah5VgXRlLeE",
        "colab_type": "code",
        "colab": {}
      },
      "source": [
        "act_layer = tf.keras.layers.ReLU()\n",
        "act_output = act_layer(output)"
      ],
      "execution_count": 109,
      "outputs": []
    },
    {
      "cell_type": "code",
      "metadata": {
        "id": "xVBgznNblOPa",
        "colab_type": "code",
        "colab": {
          "base_uri": "https://localhost:8080/",
          "height": 35
        },
        "outputId": "256bf9e8-4b69-427a-c16f-286808d94d6a"
      },
      "source": [
        "output.shape"
      ],
      "execution_count": 110,
      "outputs": [
        {
          "output_type": "execute_result",
          "data": {
            "text/plain": [
              "TensorShape([1, 28, 28, 5])"
            ]
          },
          "metadata": {
            "tags": []
          },
          "execution_count": 110
        }
      ]
    },
    {
      "cell_type": "code",
      "metadata": {
        "id": "NHM9WWualWex",
        "colab_type": "code",
        "colab": {
          "base_uri": "https://localhost:8080/",
          "height": 35
        },
        "outputId": "062003c7-31ae-4cbe-a9f1-0d4e658b8e89"
      },
      "source": [
        "np.min(act_output), np.max(act_output)"
      ],
      "execution_count": 111,
      "outputs": [
        {
          "output_type": "execute_result",
          "data": {
            "text/plain": [
              "(0.0, 269.28125)"
            ]
          },
          "metadata": {
            "tags": []
          },
          "execution_count": 111
        }
      ]
    },
    {
      "cell_type": "code",
      "metadata": {
        "id": "5zA3QqlelZzA",
        "colab_type": "code",
        "colab": {
          "base_uri": "https://localhost:8080/",
          "height": 336
        },
        "outputId": "d7b26191-0876-4e1a-e7ae-7cb724e9cf84"
      },
      "source": [
        "plt.figure(figsize=(15,5))\n",
        "plt.subplot(121)\n",
        "plt.hist(act_output.numpy().ravel(), range=[-2,2])\n",
        "plt.ylim(0,100)\n",
        "\n",
        "plt.subplot(122)\n",
        "plt.title(act_output.shape)\n",
        "plt.imshow(act_output[0,:,:,0],'gray')\n",
        "plt.show()"
      ],
      "execution_count": 112,
      "outputs": [
        {
          "output_type": "display_data",
          "data": {
            "image/png": "[encoded data removed]",
            "text/plain": [
              "<Figure size 1080x360 with 2 Axes>"
            ]
          },
          "metadata": {
            "tags": [],
            "needs_background": "light"
          }
        }
      ]
    },
    {
      "cell_type": "code",
      "metadata": {
        "id": "9kUOH8fGlnk_",
        "colab_type": "code",
        "colab": {}
      },
      "source": [
        ""
      ],
      "execution_count": 64,
      "outputs": []
    },
    {
      "cell_type": "markdown",
      "metadata": {
        "id": "0UuNS9SVuIrH",
        "colab_type": "text"
      },
      "source": [
        "#Pooling\n",
        "강조되는 이미지로 줄임"
      ]
    },
    {
      "cell_type": "code",
      "metadata": {
        "id": "pjit6Hv-uHUu",
        "colab_type": "code",
        "colab": {
          "base_uri": "https://localhost:8080/",
          "height": 35
        },
        "outputId": "29a1a1cb-7d9f-4cae-daa2-c7b1b4ab6da0"
      },
      "source": [
        "tf.keras.layers.MaxPool2D(pool_size=(2,2), strides=(2,2), padding='SAME')"
      ],
      "execution_count": 115,
      "outputs": [
        {
          "output_type": "execute_result",
          "data": {
            "text/plain": [
              "<tensorflow.python.keras.layers.pooling.MaxPooling2D at 0x7fd7369e90f0>"
            ]
          },
          "metadata": {
            "tags": []
          },
          "execution_count": 115
        }
      ]
    },
    {
      "cell_type": "code",
      "metadata": {
        "id": "GE3B_z7KuHeU",
        "colab_type": "code",
        "colab": {}
      },
      "source": [
        "pool_layer = tf.keras.layers.MaxPool2D(pool_size=(2,2), strides=(2,2), padding='SAME')\n",
        "pool_output = pool_layer(act_output)"
      ],
      "execution_count": 117,
      "outputs": []
    },
    {
      "cell_type": "code",
      "metadata": {
        "id": "7q5YzBoouHg0",
        "colab_type": "code",
        "colab": {
          "base_uri": "https://localhost:8080/",
          "height": 35
        },
        "outputId": "54872234-2f28-46ae-c22d-b39f3692fab5"
      },
      "source": [
        "act_output.shape"
      ],
      "execution_count": 118,
      "outputs": [
        {
          "output_type": "execute_result",
          "data": {
            "text/plain": [
              "TensorShape([1, 28, 28, 5])"
            ]
          },
          "metadata": {
            "tags": []
          },
          "execution_count": 118
        }
      ]
    },
    {
      "cell_type": "code",
      "metadata": {
        "id": "MQ-V0mZEuHjR",
        "colab_type": "code",
        "colab": {
          "base_uri": "https://localhost:8080/",
          "height": 35
        },
        "outputId": "e7fc4e64-08e9-4042-faf4-f4ee9e903277"
      },
      "source": [
        "pool_output.shape"
      ],
      "execution_count": 120,
      "outputs": [
        {
          "output_type": "execute_result",
          "data": {
            "text/plain": [
              "TensorShape([1, 14, 14, 5])"
            ]
          },
          "metadata": {
            "tags": []
          },
          "execution_count": 120
        }
      ]
    },
    {
      "cell_type": "code",
      "metadata": {
        "id": "_0pRVPTKxbd0",
        "colab_type": "code",
        "colab": {
          "base_uri": "https://localhost:8080/",
          "height": 336
        },
        "outputId": "7dc96a85-7be2-401e-85f1-8b551447df50"
      },
      "source": [
        "plt.figure(figsize=(15,5))\n",
        "plt.subplot(121)\n",
        "plt.hist(pool_output.numpy().ravel(), range=[-2,2])\n",
        "plt.ylim(0,100)\n",
        "\n",
        "plt.subplot(122)\n",
        "plt.title(pool_output.shape)\n",
        "plt.imshow(pool_output[0,:,:,0], 'gray')\n",
        "plt.show()"
      ],
      "execution_count": 123,
      "outputs": [
        {
          "output_type": "display_data",
          "data": {
            "image/png": "[encoded data removed]",
            "text/plain": [
              "<Figure size 1080x360 with 2 Axes>"
            ]
          },
          "metadata": {
            "tags": [],
            "needs_background": "light"
          }
        }
      ]
    },
    {
      "cell_type": "code",
      "metadata": {
        "id": "-MEAvKPYxuPC",
        "colab_type": "code",
        "colab": {}
      },
      "source": [
        ""
      ],
      "execution_count": null,
      "outputs": []
    },
    {
      "cell_type": "markdown",
      "metadata": {
        "id": "EA5OJ-hNycCn",
        "colab_type": "text"
      },
      "source": [
        "#Flatten\n"
      ]
    },
    {
      "cell_type": "code",
      "metadata": {
        "id": "ar0wayGeydQM",
        "colab_type": "code",
        "colab": {
          "base_uri": "https://localhost:8080/",
          "height": 35
        },
        "outputId": "49cff42d-b4fd-4897-f758-3d1ae469b8bb"
      },
      "source": [
        "tf.keras.layers.Flatten()"
      ],
      "execution_count": 124,
      "outputs": [
        {
          "output_type": "execute_result",
          "data": {
            "text/plain": [
              "<tensorflow.python.keras.layers.core.Flatten at 0x7fd736cd8e80>"
            ]
          },
          "metadata": {
            "tags": []
          },
          "execution_count": 124
        }
      ]
    },
    {
      "cell_type": "code",
      "metadata": {
        "id": "SO3F7Wq-yhC1",
        "colab_type": "code",
        "colab": {}
      },
      "source": [
        "layer = tf.keras.layers.Flatten()"
      ],
      "execution_count": 125,
      "outputs": []
    },
    {
      "cell_type": "code",
      "metadata": {
        "id": "PSO1eE_Dyinj",
        "colab_type": "code",
        "colab": {}
      },
      "source": [
        "flatten = layer(output)"
      ],
      "execution_count": 126,
      "outputs": []
    },
    {
      "cell_type": "code",
      "metadata": {
        "id": "bt6h5Spnyl99",
        "colab_type": "code",
        "colab": {
          "base_uri": "https://localhost:8080/",
          "height": 35
        },
        "outputId": "eec85008-f8d1-4213-93af-f949d7ddeaee"
      },
      "source": [
        "output.shape"
      ],
      "execution_count": 127,
      "outputs": [
        {
          "output_type": "execute_result",
          "data": {
            "text/plain": [
              "TensorShape([1, 28, 28, 5])"
            ]
          },
          "metadata": {
            "tags": []
          },
          "execution_count": 127
        }
      ]
    },
    {
      "cell_type": "code",
      "metadata": {
        "id": "9Mw6mDtEynRw",
        "colab_type": "code",
        "colab": {
          "base_uri": "https://localhost:8080/",
          "height": 35
        },
        "outputId": "371461fc-865b-4b42-b3a7-7871ad34ea95"
      },
      "source": [
        "flatten.shape"
      ],
      "execution_count": 129,
      "outputs": [
        {
          "output_type": "execute_result",
          "data": {
            "text/plain": [
              "TensorShape([1, 3920])"
            ]
          },
          "metadata": {
            "tags": []
          },
          "execution_count": 129
        }
      ]
    },
    {
      "cell_type": "code",
      "metadata": {
        "id": "R3sl1G8aynwU",
        "colab_type": "code",
        "colab": {
          "base_uri": "https://localhost:8080/",
          "height": 266
        },
        "outputId": "1927d046-4637-4a95-8992-d3ff42eb1da5"
      },
      "source": [
        "plt.figure(figsize=(15,5))\n",
        "plt.subplot(211)\n",
        "plt.hist(flatten.numpy().ravel())\n",
        "plt.ylim(0,1000)\n",
        "\n",
        "plt.subplot(212)\n",
        "plt.imshow(flatten[:,:100])\n",
        "plt.show()"
      ],
      "execution_count": 135,
      "outputs": [
        {
          "output_type": "display_data",
          "data": {
            "image/png": "[encoded data removed]",
            "text/plain": [
              "<Figure size 1080x360 with 2 Axes>"
            ]
          },
          "metadata": {
            "tags": [],
            "needs_background": "light"
          }
        }
      ]
    },
    {
      "cell_type": "code",
      "metadata": {
        "id": "bYi7HwiUyvwU",
        "colab_type": "code",
        "colab": {}
      },
      "source": [
        ""
      ],
      "execution_count": null,
      "outputs": []
    },
    {
      "cell_type": "markdown",
      "metadata": {
        "id": "0sIo36fNzIbu",
        "colab_type": "text"
      },
      "source": [
        "#Dense"
      ]
    },
    {
      "cell_type": "code",
      "metadata": {
        "id": "AwC0ZRhEzJ51",
        "colab_type": "code",
        "colab": {
          "base_uri": "https://localhost:8080/",
          "height": 35
        },
        "outputId": "e32b5d5a-3c66-4cc6-fd98-5efeb078b074"
      },
      "source": [
        "tf.keras.layers.Dense(32, activation='relu')"
      ],
      "execution_count": 136,
      "outputs": [
        {
          "output_type": "execute_result",
          "data": {
            "text/plain": [
              "<tensorflow.python.keras.layers.core.Dense at 0x7fd7379b3438>"
            ]
          },
          "metadata": {
            "tags": []
          },
          "execution_count": 136
        }
      ]
    },
    {
      "cell_type": "code",
      "metadata": {
        "id": "IfOL5wTfzMlB",
        "colab_type": "code",
        "colab": {}
      },
      "source": [
        "layer = tf.keras.layers.Dense(32, activation='relu')\n"
      ],
      "execution_count": 137,
      "outputs": []
    },
    {
      "cell_type": "code",
      "metadata": {
        "id": "2Ysn-jcezTlI",
        "colab_type": "code",
        "colab": {}
      },
      "source": [
        "output = layer(flatten)"
      ],
      "execution_count": 139,
      "outputs": []
    },
    {
      "cell_type": "code",
      "metadata": {
        "id": "XSsWh3T7zWsk",
        "colab_type": "code",
        "colab": {
          "base_uri": "https://localhost:8080/",
          "height": 35
        },
        "outputId": "bb084977-52c5-4554-c7a8-075e68b3f5cf"
      },
      "source": [
        "output.shape"
      ],
      "execution_count": 140,
      "outputs": [
        {
          "output_type": "execute_result",
          "data": {
            "text/plain": [
              "TensorShape([1, 32])"
            ]
          },
          "metadata": {
            "tags": []
          },
          "execution_count": 140
        }
      ]
    },
    {
      "cell_type": "code",
      "metadata": {
        "id": "kx4K1wAv0BMZ",
        "colab_type": "code",
        "colab": {}
      },
      "source": [
        ""
      ],
      "execution_count": null,
      "outputs": []
    },
    {
      "cell_type": "code",
      "metadata": {
        "id": "0uMxVun9zZuT",
        "colab_type": "code",
        "colab": {}
      },
      "source": [
        "layer_2 = tf.keras.layers.Dense(10, activation='relu')\n",
        "output_tmp = layer_2(output)"
      ],
      "execution_count": 143,
      "outputs": []
    },
    {
      "cell_type": "code",
      "metadata": {
        "id": "tzw-azxuzguH",
        "colab_type": "code",
        "colab": {
          "base_uri": "https://localhost:8080/",
          "height": 35
        },
        "outputId": "f43913e2-d79d-4b66-c88f-7cc02be14eb6"
      },
      "source": [
        "output_tmp.shape"
      ],
      "execution_count": 144,
      "outputs": [
        {
          "output_type": "execute_result",
          "data": {
            "text/plain": [
              "TensorShape([1, 10])"
            ]
          },
          "metadata": {
            "tags": []
          },
          "execution_count": 144
        }
      ]
    },
    {
      "cell_type": "code",
      "metadata": {
        "id": "V35Yl5KR0Fre",
        "colab_type": "code",
        "colab": {}
      },
      "source": [
        ""
      ],
      "execution_count": null,
      "outputs": []
    },
    {
      "cell_type": "code",
      "metadata": {
        "id": "Id6_mQZ50G5M",
        "colab_type": "code",
        "colab": {}
      },
      "source": [
        "#dropout"
      ],
      "execution_count": 145,
      "outputs": []
    },
    {
      "cell_type": "markdown",
      "metadata": {
        "id": "sd9sQB7O0Izg",
        "colab_type": "text"
      },
      "source": [
        "#dropout"
      ]
    },
    {
      "cell_type": "code",
      "metadata": {
        "id": "JZCw6N-C0J5V",
        "colab_type": "code",
        "colab": {}
      },
      "source": [
        ""
      ],
      "execution_count": null,
      "outputs": []
    },
    {
      "cell_type": "code",
      "metadata": {
        "id": "4zORP8xX0Hmw",
        "colab_type": "code",
        "colab": {}
      },
      "source": [
        ""
      ],
      "execution_count": null,
      "outputs": []
    }
  ]
}